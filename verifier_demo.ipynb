{
 "cells": [
  {
   "cell_type": "code",
   "execution_count": 14,
   "id": "9db09321",
   "metadata": {},
   "outputs": [],
   "source": [
    "import numpy as np\n",
    "from verifier import Verifier"
   ]
  },
  {
   "cell_type": "code",
   "execution_count": 15,
   "id": "5db341ba",
   "metadata": {},
   "outputs": [
    {
     "name": "stdout",
     "output_type": "stream",
     "text": [
      "True\n",
      "True\n",
      "True\n"
     ]
    }
   ],
   "source": [
    "'''Verfy a correct sudoku array'''\n",
    "array = np.array([\n",
    "    [1, 2, 3, 4, 5, 6, 7, 8, 9],\n",
    "    [4, 5, 6, 7, 8, 9, 1, 2, 3],\n",
    "    [7, 8, 9, 1, 2, 3, 4, 5, 6],\n",
    "    [2, 3, 4, 5, 6, 7, 8, 9, 1],\n",
    "    [5, 6, 7, 8, 9, 1, 2, 3, 4],\n",
    "    [8, 9, 1, 2, 3, 4, 5, 6, 7],\n",
    "    [3, 4, 5, 6, 7, 8, 9, 1, 2],\n",
    "    [6, 7, 8, 9, 1, 2, 3, 4, 5],\n",
    "    [9, 1, 2, 3, 4, 5, 6, 7, 8]\n",
    "])\n",
    "\n",
    "verifier = Verifier(array = array, order = 9)\n",
    "print(verifier.verify_rows())\n",
    "print(verifier.verify_columns())\n",
    "print(verifier.verify_cells())"
   ]
  },
  {
   "cell_type": "code",
   "execution_count": 16,
   "id": "31d14cd9",
   "metadata": {},
   "outputs": [
    {
     "name": "stdout",
     "output_type": "stream",
     "text": [
      "True\n",
      "False\n",
      "False\n"
     ]
    }
   ],
   "source": [
    "'''Only rows are correct''' \n",
    "\n",
    "array = np.zeros((9,9), dtype=int)\n",
    "array[:] = [1,2,3,4,5,6,7,8,9] # Set all the rows to [1,2,3,4,5,6,7,8,9]\n",
    "\n",
    "verifier = Verifier(array = array, order = 9)\n",
    "print(verifier.verify_rows())\n",
    "print(verifier.verify_columns())\n",
    "print(verifier.verify_cells())"
   ]
  },
  {
   "cell_type": "code",
   "execution_count": 17,
   "id": "6aa9b7a4",
   "metadata": {},
   "outputs": [
    {
     "name": "stdout",
     "output_type": "stream",
     "text": [
      "False\n",
      "True\n",
      "False\n"
     ]
    }
   ],
   "source": [
    "'''Only columns are correct''' \n",
    "\n",
    "array = np.zeros((9,9), dtype=int)\n",
    "\n",
    "# Set all the colums to 1 to 9\n",
    "for col in range(9):\n",
    "    array[:,col] = range(1,10)\n",
    "\n",
    "verifier = Verifier(array = array, order = 9)\n",
    "print(verifier.verify_rows())\n",
    "print(verifier.verify_columns())\n",
    "print(verifier.verify_cells())"
   ]
  },
  {
   "cell_type": "code",
   "execution_count": 18,
   "id": "003e65ab",
   "metadata": {},
   "outputs": [
    {
     "name": "stdout",
     "output_type": "stream",
     "text": [
      "False\n",
      "False\n",
      "True\n"
     ]
    }
   ],
   "source": [
    "'''Only cells are correct''' \n",
    "\n",
    "array = np.zeros((9,9), dtype=int)\n",
    "\n",
    "# Set all cells to 1 to 9\n",
    "num_cells = 3\n",
    "cell_len = 3\n",
    "for i in range(num_cells):\n",
    "    for j in range(num_cells):\n",
    "        row_start = i * cell_len\n",
    "        column_start = j * cell_len\n",
    "        array[row_start : row_start + cell_len, column_start : column_start + cell_len] = np.arange(1,10).reshape(3,3)\n",
    "\n",
    "verifier = Verifier(array = array, order = 9)\n",
    "print(verifier.verify_rows())\n",
    "print(verifier.verify_columns())\n",
    "print(verifier.verify_cells())"
   ]
  }
 ],
 "metadata": {
  "kernelspec": {
   "display_name": "Python 3",
   "language": "python",
   "name": "python3"
  },
  "language_info": {
   "codemirror_mode": {
    "name": "ipython",
    "version": 3
   },
   "file_extension": ".py",
   "mimetype": "text/x-python",
   "name": "python",
   "nbconvert_exporter": "python",
   "pygments_lexer": "ipython3",
   "version": "3.11.12"
  }
 },
 "nbformat": 4,
 "nbformat_minor": 5
}
